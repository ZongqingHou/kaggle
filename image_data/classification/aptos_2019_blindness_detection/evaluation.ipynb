{
 "cells": [
  {
   "cell_type": "code",
   "execution_count": 1,
   "metadata": {},
   "outputs": [],
   "source": [
    "import numpy as np\n",
    "import pandas as pd\n",
    "import torch\n",
    "import torchvision\n",
    "from torch.autograd import Variable"
   ]
  },
  {
   "cell_type": "code",
   "execution_count": 2,
   "metadata": {},
   "outputs": [],
   "source": [
    "try:\n",
    "    import baseline_model\n",
    "    import self_defined_dataset\n",
    "except:\n",
    "    !jupyter nbconvert --to script baseline_model.ipynb\n",
    "    !jupyter nbconvert --to script self_defined_dataset.ipynb\n",
    "finally:\n",
    "    import baseline_model\n",
    "    import self_defined_dataset"
   ]
  },
  {
   "cell_type": "code",
   "execution_count": 3,
   "metadata": {},
   "outputs": [],
   "source": [
    "if torch.cuda.is_available():\n",
    "    CUDA_USAGE = True\n",
    "else:\n",
    "    CUDA_USAGE = False"
   ]
  },
  {
   "cell_type": "code",
   "execution_count": 4,
   "metadata": {},
   "outputs": [],
   "source": [
    "transform_val_list = [\n",
    "    torchvision.transforms.Resize((256, 256), interpolation=3),\n",
    "    torchvision.transforms.ToTensor(),\n",
    "    torchvision.transforms.Normalize([0.485, 0.456, 0.406], [0.229, 0.224, 0.225])\n",
    "]\n",
    "data_transform = torchvision.transforms.Compose(transform_val_list)"
   ]
  },
  {
   "cell_type": "code",
   "execution_count": 5,
   "metadata": {},
   "outputs": [],
   "source": [
    "img_root_path = \"/home/extension/kaggle/APTOS_2019_Blindness_Detection/test_images\"\n",
    "img_csv = \"/home/extension/kaggle/APTOS_2019_Blindness_Detection/test.csv\""
   ]
  },
  {
   "cell_type": "code",
   "execution_count": 6,
   "metadata": {},
   "outputs": [
    {
     "name": "stdout",
     "output_type": "stream",
     "text": [
      "id_code    0005cfc8afb6\n",
      "Name: 0, dtype: object\n"
     ]
    }
   ],
   "source": [
    "train_dataset = self_defined_dataset.Blindness(img_root_path, img_csv, True, data_transform, eval_flag=True)\n",
    "dataloader = torch.utils.data.DataLoader(train_dataset, batch_size=32, shuffle=False, num_workers=4)"
   ]
  },
  {
   "cell_type": "code",
   "execution_count": 11,
   "metadata": {},
   "outputs": [],
   "source": [
    "model = baseline_model.Blindness(5)\n",
    "if CUDA_USAGE:\n",
    "    model = model.cuda()\n",
    "    model.eval()\n",
    "else:\n",
    "    pass\n",
    "\n",
    "model.load_state_dict(torch.load(\"/home/hdd/hdD_Git/kaggle/image_data/classification/aptos_2019_blindness_detection/models/49.pth\"))\n",
    "torch.save(model, \"./models/submission.pth\")"
   ]
  },
  {
   "cell_type": "code",
   "execution_count": 8,
   "metadata": {},
   "outputs": [],
   "source": [
    "ID_CODE = []\n",
    "DIAGNOSIS = []"
   ]
  },
  {
   "cell_type": "code",
   "execution_count": 9,
   "metadata": {},
   "outputs": [],
   "source": [
    "for data in dataloader:\n",
    "    with torch.no_grad():\n",
    "        input_data, data_name = data\n",
    "        if CUDA_USAGE:\n",
    "            input_data = Variable(input_data.cuda())\n",
    "            \n",
    "        outputs = model(input_data)\n",
    "        indices = torch.max(outputs, 1).indices\n",
    "        \n",
    "        ID_CODE.extend(data_name)\n",
    "        DIAGNOSIS.extend(list(indices.cpu().detach().numpy()))\n",
    "        \n",
    "        torch.cuda.empty_cache()"
   ]
  },
  {
   "cell_type": "code",
   "execution_count": 10,
   "metadata": {},
   "outputs": [],
   "source": [
    "submission = pd.DataFrame({\n",
    "    \"id_code\": np.array(ID_CODE),\n",
    "    \"diagnosis\": np.array(DIAGNOSIS)\n",
    "})\n",
    "\n",
    "submission.to_csv(\"submission.csv\", index=False)"
   ]
  }
 ],
 "metadata": {
  "kernelspec": {
   "display_name": "Python 3",
   "language": "python",
   "name": "python3"
  },
  "language_info": {
   "codemirror_mode": {
    "name": "ipython",
    "version": 3
   },
   "file_extension": ".py",
   "mimetype": "text/x-python",
   "name": "python",
   "nbconvert_exporter": "python",
   "pygments_lexer": "ipython3",
   "version": "3.5.2"
  }
 },
 "nbformat": 4,
 "nbformat_minor": 2
}
