{
 "cells": [
  {
   "cell_type": "markdown",
   "metadata": {},
   "source": [
    "## self defined dataset"
   ]
  },
  {
   "cell_type": "code",
   "execution_count": 12,
   "metadata": {},
   "outputs": [],
   "source": [
    "from PIL import Image\n",
    "import pandas as pd\n",
    "from torch.utils import data\n",
    "import torchvision\n",
    "import torch"
   ]
  },
  {
   "cell_type": "code",
   "execution_count": 59,
   "metadata": {},
   "outputs": [],
   "source": [
    "class Blindness(data.Dataset):\n",
    "    def __init__(self, root_path, data_path, csv_flag, tranform=None, target_tranform=None, eval_flag=False):\n",
    "        if csv_flag is True:\n",
    "            self.dataset_information = pd.read_csv(data_path)\n",
    "            print(self.dataset_information.loc[0])\n",
    "        else:\n",
    "            pass\n",
    "        \n",
    "        self.eval_flag = eval_flag\n",
    "        self.root_path = root_path\n",
    "        self.tranform = tranform\n",
    "        self.target_tranform = target_tranform\n",
    "    \n",
    "    def __getitem__(self, index):\n",
    "        if self.eval_flag:\n",
    "            tmp_img_name = self.dataset_information.loc[index][\"id_code\"]\n",
    "        else:\n",
    "            tmp_img_name, tmp_label = self.dataset_information.loc[index]\n",
    "        \n",
    "        img_path = self.root_path + tmp_img_name + \".png\" if self.root_path[-1] == '/' else self.root_path + '/' + tmp_img_name + \".png\"\n",
    "        img_data = Image.open(img_path).convert(\"RGB\")\n",
    "        \n",
    "        if self.tranform is not None:\n",
    "            img_data = self.tranform(img_data)\n",
    "            \n",
    "            if self.eval_flag:\n",
    "                return img_data, tmp_img_name\n",
    "        \n",
    "        if self.target_tranform is not None:\n",
    "            tmp_label = self.target_tranform(tmp_label)\n",
    "            \n",
    "        return img_data, tmp_label\n",
    "    \n",
    "    def __len__(self):\n",
    "        return self.dataset_information.shape[0]"
   ]
  },
  {
   "cell_type": "code",
   "execution_count": 14,
   "metadata": {},
   "outputs": [],
   "source": [
    "# transform_val_list = [\n",
    "#     torchvision.transforms.Resize((256, 256), interpolation=3),\n",
    "#     torchvision.transforms.ToTensor(),\n",
    "#     torchvision.transforms.Normalize([0.485, 0.456, 0.406], [0.229, 0.224, 0.225])\n",
    "# ]\n",
    "# data_transform = torchvision.transforms.Compose(transform_val_list)"
   ]
  },
  {
   "cell_type": "code",
   "execution_count": 60,
   "metadata": {},
   "outputs": [],
   "source": [
    "# img_root_path = \"/home/extension/kaggle/APTOS_2019_Blindness_Detection/test_images\"\n",
    "# img_csv = \"/home/extension/kaggle/APTOS_2019_Blindness_Detection/test.csv\""
   ]
  },
  {
   "cell_type": "code",
   "execution_count": 64,
   "metadata": {},
   "outputs": [
    {
     "name": "stdout",
     "output_type": "stream",
     "text": [
      "id_code      000c1434d8d7\n",
      "diagnosis               2\n",
      "Name: 0, dtype: object\n"
     ]
    }
   ],
   "source": [
    "# train_dataset = Blindness(img_root_path, img_csv, True, data_transform, eval_flag=True)\n",
    "# dataloader = torch.utils.data.DataLoader(train_dataset, batch_size=1, shuffle=False, num_workers=1)"
   ]
  },
  {
   "cell_type": "code",
   "execution_count": 65,
   "metadata": {},
   "outputs": [
    {
     "name": "stdout",
     "output_type": "stream",
     "text": [
      "/home/extension/kaggle/APTOS_2019_Blindness_Detection/test_images/000c1434d8d7.png\n",
      "/home/extension/kaggle/APTOS_2019_Blindness_Detection/test_images/001639a390f0.png\n",
      "/home/extension/kaggle/APTOS_2019_Blindness_Detection/test_images/0024cdab0c1e.png\n"
     ]
    },
    {
     "ename": "FileNotFoundError",
     "evalue": "Traceback (most recent call last):\n  File \"/usr/local/lib/python3.5/dist-packages/torch/utils/data/_utils/worker.py\", line 99, in _worker_loop\n    samples = collate_fn([dataset[i] for i in batch_indices])\n  File \"/usr/local/lib/python3.5/dist-packages/torch/utils/data/_utils/worker.py\", line 99, in <listcomp>\n    samples = collate_fn([dataset[i] for i in batch_indices])\n  File \"<ipython-input-59-091c34712013>\", line 22, in __getitem__\n    img_data = Image.open(img_path).convert(\"RGB\")\n  File \"/usr/local/lib/python3.5/dist-packages/PIL/Image.py\", line 2580, in open\n    fp = builtins.open(filename, \"rb\")\nFileNotFoundError: [Errno 2] No such file or directory: '/home/extension/kaggle/APTOS_2019_Blindness_Detection/test_images/000c1434d8d7.png'\n",
     "output_type": "error",
     "traceback": [
      "\u001b[0;31m---------------------------------------------------------------------------\u001b[0m",
      "\u001b[0;31mFileNotFoundError\u001b[0m                         Traceback (most recent call last)",
      "\u001b[0;32m<ipython-input-65-681fc87132d5>\u001b[0m in \u001b[0;36m<module>\u001b[0;34m\u001b[0m\n\u001b[0;32m----> 1\u001b[0;31m \u001b[0;32mfor\u001b[0m \u001b[0mtmp\u001b[0m \u001b[0;32min\u001b[0m \u001b[0mdataloader\u001b[0m\u001b[0;34m:\u001b[0m\u001b[0;34m\u001b[0m\u001b[0m\n\u001b[0m\u001b[1;32m      2\u001b[0m     \u001b[0mprint\u001b[0m\u001b[0;34m(\u001b[0m\u001b[0mtmp\u001b[0m\u001b[0;34m)\u001b[0m\u001b[0;34m\u001b[0m\u001b[0m\n",
      "\u001b[0;32m/usr/local/lib/python3.5/dist-packages/torch/utils/data/dataloader.py\u001b[0m in \u001b[0;36m__next__\u001b[0;34m(self)\u001b[0m\n\u001b[1;32m    580\u001b[0m                 \u001b[0mself\u001b[0m\u001b[0;34m.\u001b[0m\u001b[0mreorder_dict\u001b[0m\u001b[0;34m[\u001b[0m\u001b[0midx\u001b[0m\u001b[0;34m]\u001b[0m \u001b[0;34m=\u001b[0m \u001b[0mbatch\u001b[0m\u001b[0;34m\u001b[0m\u001b[0m\n\u001b[1;32m    581\u001b[0m                 \u001b[0;32mcontinue\u001b[0m\u001b[0;34m\u001b[0m\u001b[0m\n\u001b[0;32m--> 582\u001b[0;31m             \u001b[0;32mreturn\u001b[0m \u001b[0mself\u001b[0m\u001b[0;34m.\u001b[0m\u001b[0m_process_next_batch\u001b[0m\u001b[0;34m(\u001b[0m\u001b[0mbatch\u001b[0m\u001b[0;34m)\u001b[0m\u001b[0;34m\u001b[0m\u001b[0m\n\u001b[0m\u001b[1;32m    583\u001b[0m \u001b[0;34m\u001b[0m\u001b[0m\n\u001b[1;32m    584\u001b[0m     \u001b[0mnext\u001b[0m \u001b[0;34m=\u001b[0m \u001b[0m__next__\u001b[0m  \u001b[0;31m# Python 2 compatibility\u001b[0m\u001b[0;34m\u001b[0m\u001b[0m\n",
      "\u001b[0;32m/usr/local/lib/python3.5/dist-packages/torch/utils/data/dataloader.py\u001b[0m in \u001b[0;36m_process_next_batch\u001b[0;34m(self, batch)\u001b[0m\n\u001b[1;32m    606\u001b[0m                 \u001b[0;32mraise\u001b[0m \u001b[0mException\u001b[0m\u001b[0;34m(\u001b[0m\u001b[0;34m\"KeyError:\"\u001b[0m \u001b[0;34m+\u001b[0m \u001b[0mbatch\u001b[0m\u001b[0;34m.\u001b[0m\u001b[0mexc_msg\u001b[0m\u001b[0;34m)\u001b[0m\u001b[0;34m\u001b[0m\u001b[0m\n\u001b[1;32m    607\u001b[0m             \u001b[0;32melse\u001b[0m\u001b[0;34m:\u001b[0m\u001b[0;34m\u001b[0m\u001b[0m\n\u001b[0;32m--> 608\u001b[0;31m                 \u001b[0;32mraise\u001b[0m \u001b[0mbatch\u001b[0m\u001b[0;34m.\u001b[0m\u001b[0mexc_type\u001b[0m\u001b[0;34m(\u001b[0m\u001b[0mbatch\u001b[0m\u001b[0;34m.\u001b[0m\u001b[0mexc_msg\u001b[0m\u001b[0;34m)\u001b[0m\u001b[0;34m\u001b[0m\u001b[0m\n\u001b[0m\u001b[1;32m    609\u001b[0m         \u001b[0;32mreturn\u001b[0m \u001b[0mbatch\u001b[0m\u001b[0;34m\u001b[0m\u001b[0m\n\u001b[1;32m    610\u001b[0m \u001b[0;34m\u001b[0m\u001b[0m\n",
      "\u001b[0;31mFileNotFoundError\u001b[0m: Traceback (most recent call last):\n  File \"/usr/local/lib/python3.5/dist-packages/torch/utils/data/_utils/worker.py\", line 99, in _worker_loop\n    samples = collate_fn([dataset[i] for i in batch_indices])\n  File \"/usr/local/lib/python3.5/dist-packages/torch/utils/data/_utils/worker.py\", line 99, in <listcomp>\n    samples = collate_fn([dataset[i] for i in batch_indices])\n  File \"<ipython-input-59-091c34712013>\", line 22, in __getitem__\n    img_data = Image.open(img_path).convert(\"RGB\")\n  File \"/usr/local/lib/python3.5/dist-packages/PIL/Image.py\", line 2580, in open\n    fp = builtins.open(filename, \"rb\")\nFileNotFoundError: [Errno 2] No such file or directory: '/home/extension/kaggle/APTOS_2019_Blindness_Detection/test_images/000c1434d8d7.png'\n"
     ]
    }
   ],
   "source": [
    "# for tmp in dataloader:\n",
    "#     print(tmp)"
   ]
  },
  {
   "cell_type": "code",
   "execution_count": null,
   "metadata": {},
   "outputs": [],
   "source": []
  }
 ],
 "metadata": {
  "kernelspec": {
   "display_name": "Python 3",
   "language": "python",
   "name": "python3"
  },
  "language_info": {
   "codemirror_mode": {
    "name": "ipython",
    "version": 3
   },
   "file_extension": ".py",
   "mimetype": "text/x-python",
   "name": "python",
   "nbconvert_exporter": "python",
   "pygments_lexer": "ipython3",
   "version": "3.5.2"
  }
 },
 "nbformat": 4,
 "nbformat_minor": 2
}
