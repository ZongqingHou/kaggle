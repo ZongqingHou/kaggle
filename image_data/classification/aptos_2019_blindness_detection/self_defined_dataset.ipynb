{
 "cells": [
  {
   "cell_type": "markdown",
   "metadata": {},
   "source": [
    "## self defined dataset"
   ]
  },
  {
   "cell_type": "code",
   "execution_count": 6,
   "metadata": {},
   "outputs": [],
   "source": [
    "from PIL import Image\n",
    "import pandas as pd\n",
    "from torch.utils import data"
   ]
  },
  {
   "cell_type": "code",
   "execution_count": 9,
   "metadata": {},
   "outputs": [],
   "source": [
    "class Blindness(data.Dataset):\n",
    "    def __init__(self, root_path, data_path, csv_flag, tranform=None, target_tranform=None):\n",
    "        if csv_falg is True:\n",
    "            self.dataset_information = pd.read_csv(data_path)\n",
    "        else:\n",
    "            pass\n",
    "        \n",
    "        self.root_path = root_path\n",
    "        self.tranform = tranform\n",
    "        self.target_tranform = target_tranform\n",
    "    \n",
    "    def __getitem__(self, index):\n",
    "        tmp_img_name, tmp_label = self.dataset_information.loc[index]\n",
    "        \n",
    "        img_path = self.root_path + tmp_img_name if self.root_path[-1] == '/' else self.root_path + '/' + tmp_img_name\n",
    "        img_data = Image.open(img_path).convert(\"RGB\")\n",
    "    \n",
    "    def __len__(self):\n",
    "        return self.dataset_information.shape"
   ]
  }
 ],
 "metadata": {
  "kernelspec": {
   "display_name": "Python 3",
   "language": "python",
   "name": "python3"
  },
  "language_info": {
   "codemirror_mode": {
    "name": "ipython",
    "version": 3
   },
   "file_extension": ".py",
   "mimetype": "text/x-python",
   "name": "python",
   "nbconvert_exporter": "python",
   "pygments_lexer": "ipython3",
   "version": "3.5.2"
  }
 },
 "nbformat": 4,
 "nbformat_minor": 2
}
