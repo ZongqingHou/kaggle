{
 "cells": [
  {
   "cell_type": "code",
   "execution_count": 9,
   "metadata": {},
   "outputs": [],
   "source": [
    "import pysnooper\n",
    "import pandas as pd"
   ]
  },
  {
   "cell_type": "code",
   "execution_count": 10,
   "metadata": {},
   "outputs": [],
   "source": [
    "input_csv = pd.read_csv(\"/home/extension/kaggle/APTOS_2019_Blindness_Detection/train.csv\")"
   ]
  },
  {
   "cell_type": "code",
   "execution_count": 12,
   "metadata": {},
   "outputs": [],
   "source": [
    "@pysnooper.snoop()\n",
    "def tmp(db_frame):\n",
    "    print(db_frame[\"diagnosis\"].unique())"
   ]
  },
  {
   "cell_type": "code",
   "execution_count": 13,
   "metadata": {},
   "outputs": [
    {
     "name": "stdout",
     "output_type": "stream",
     "text": [
      "[2 4 1 0 3]\n"
     ]
    },
    {
     "name": "stderr",
     "output_type": "stream",
     "text": [
      "Starting var:.. db_frame =            id_code  diagnosis0     000c1434d8d7 ...1  ffec9a18a3ce          2[3662 rows x 2 columns]\n",
      "11:49:11.294180 call         2 def tmp(db_frame):\n",
      "11:49:11.300211 line         3     print(db_frame[\"diagnosis\"].unique())\n",
      "11:49:11.308010 return       3     print(db_frame[\"diagnosis\"].unique())\n",
      "Return value:.. None\n"
     ]
    }
   ],
   "source": [
    "tmp(input_csv)"
   ]
  }
 ],
 "metadata": {
  "kernelspec": {
   "display_name": "Python 3",
   "language": "python",
   "name": "python3"
  },
  "language_info": {
   "codemirror_mode": {
    "name": "ipython",
    "version": 3
   },
   "file_extension": ".py",
   "mimetype": "text/x-python",
   "name": "python",
   "nbconvert_exporter": "python",
   "pygments_lexer": "ipython3",
   "version": "3.5.2"
  }
 },
 "nbformat": 4,
 "nbformat_minor": 2
}
