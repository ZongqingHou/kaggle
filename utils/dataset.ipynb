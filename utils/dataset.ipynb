{
 "cells": [
  {
   "cell_type": "code",
   "execution_count": 4,
   "metadata": {},
   "outputs": [],
   "source": [
    "import cv2\n",
    "import torch\n",
    "import pandas as pd\n",
    "import torchvision"
   ]
  },
  {
   "cell_type": "code",
   "execution_count": 45,
   "metadata": {},
   "outputs": [],
   "source": [
    "def pharse_dataset(**kargs):\n",
    "    input_data = pd.read_csv(kargs[\"data_path\"])\n",
    "    \n",
    "    tmp_dict = {}\n",
    "    \n",
    "    for tmp_field in kargs[\"return_field\"]:\n",
    "        tmp_dict[tmp_field] = input_data[tmp_field]\n",
    "        \n",
    "    return tmp_dict"
   ]
  },
  {
   "cell_type": "code",
   "execution_count": 47,
   "metadata": {},
   "outputs": [
    {
     "name": "stdout",
     "output_type": "stream",
     "text": [
      "000c1434d8d7\n"
     ]
    }
   ],
   "source": [
    "print(pharse_dataset(data_path=\"../train.csv\", return_field=[\"id_code\"]))"
   ]
  },
  {
   "cell_type": "code",
   "execution_count": null,
   "metadata": {},
   "outputs": [],
   "source": [
    "class SelfDataset(torch.utils.data.Dataset):\n",
    "    def __init__(self, **kargs):\n",
    "        super(SelfDataset,self).__init__()    \n",
    "        if \"csv\" in kargs:\n",
    "            \n",
    "        else:\n",
    "            pass\n",
    "        \n",
    "    def __getitem__(self, index):\n",
    "        return img,label\n",
    " \n",
    "    def __len__(self):\n",
    "        return len(self.imgs)"
   ]
  }
 ],
 "metadata": {
  "kernelspec": {
   "display_name": "Python 3",
   "language": "python",
   "name": "python3"
  },
  "language_info": {
   "codemirror_mode": {
    "name": "ipython",
    "version": 3
   },
   "file_extension": ".py",
   "mimetype": "text/x-python",
   "name": "python",
   "nbconvert_exporter": "python",
   "pygments_lexer": "ipython3",
   "version": "3.5.2"
  }
 },
 "nbformat": 4,
 "nbformat_minor": 2
}
